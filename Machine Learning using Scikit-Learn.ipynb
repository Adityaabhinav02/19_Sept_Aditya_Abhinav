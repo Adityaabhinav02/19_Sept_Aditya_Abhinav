{
 "cells": [
  {
   "cell_type": "code",
   "execution_count": 5,
   "id": "cb52b7a2",
   "metadata": {},
   "outputs": [
    {
     "name": "stdout",
     "output_type": "stream",
     "text": [
      "[0]\n"
     ]
    }
   ],
   "source": [
    "import sklearn\n",
    "from sklearn import tree\n",
    "Bumpy = 1 \n",
    "Smooth = 0\n",
    "Orange = 0\n",
    "Apple = 1\n",
    "\n",
    "feature = [[140,Bumpy],[130,Bumpy],[150,Smooth],[170,Smooth]]\n",
    "lable = [Orange,Orange,Apple,Apple]\n",
    "\n",
    "mlModel = tree.DecisionTreeClassifier()\n",
    "mlModel = mlModel.fit(feature,lable)\n",
    "\n",
    "print ((mlModel.predict([[130,Bumpy]])))"
   ]
  },
  {
   "cell_type": "code",
   "execution_count": null,
   "id": "a2d274ac",
   "metadata": {},
   "outputs": [],
   "source": []
  }
 ],
 "metadata": {
  "kernelspec": {
   "display_name": "Python 3 (ipykernel)",
   "language": "python",
   "name": "python3"
  },
  "language_info": {
   "codemirror_mode": {
    "name": "ipython",
    "version": 3
   },
   "file_extension": ".py",
   "mimetype": "text/x-python",
   "name": "python",
   "nbconvert_exporter": "python",
   "pygments_lexer": "ipython3",
   "version": "3.11.4"
  }
 },
 "nbformat": 4,
 "nbformat_minor": 5
}
