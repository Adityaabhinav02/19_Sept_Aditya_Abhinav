{
 "cells": [
  {
   "cell_type": "code",
   "execution_count": 38,
   "id": "ebe4e5d2",
   "metadata": {},
   "outputs": [],
   "source": [
    "language = [\"Java\",\"Python\",\"R\"]\n",
    "version=[14,3,10]"
   ]
  },
  {
   "cell_type": "code",
   "execution_count": 6,
   "id": "1fa4ade8",
   "metadata": {},
   "outputs": [],
   "source": [
    "result=zip(language,version)"
   ]
  },
  {
   "cell_type": "code",
   "execution_count": 7,
   "id": "85f4d8ab",
   "metadata": {},
   "outputs": [
    {
     "name": "stdout",
     "output_type": "stream",
     "text": [
      "[('Java', 14), ('Python', 3), ('R', 10)]\n"
     ]
    }
   ],
   "source": [
    "print(list(result))"
   ]
  },
  {
   "cell_type": "markdown",
   "id": "98bcbc3c",
   "metadata": {},
   "source": [
    "# Pandas"
   ]
  },
  {
   "cell_type": "code",
   "execution_count": 2,
   "id": "bb4bfd61",
   "metadata": {},
   "outputs": [],
   "source": [
    "data = {'Name':['Tom','nick','krish','Jack'],'Age':[20,16,40,18]}\n"
   ]
  },
  {
   "cell_type": "code",
   "execution_count": 3,
   "id": "3790b9cc",
   "metadata": {},
   "outputs": [],
   "source": [
    "import pandas as pd"
   ]
  },
  {
   "cell_type": "code",
   "execution_count": 4,
   "id": "e37ee6f6",
   "metadata": {},
   "outputs": [
    {
     "data": {
      "text/html": [
       "<div>\n",
       "<style scoped>\n",
       "    .dataframe tbody tr th:only-of-type {\n",
       "        vertical-align: middle;\n",
       "    }\n",
       "\n",
       "    .dataframe tbody tr th {\n",
       "        vertical-align: top;\n",
       "    }\n",
       "\n",
       "    .dataframe thead th {\n",
       "        text-align: right;\n",
       "    }\n",
       "</style>\n",
       "<table border=\"1\" class=\"dataframe\">\n",
       "  <thead>\n",
       "    <tr style=\"text-align: right;\">\n",
       "      <th></th>\n",
       "      <th>Name</th>\n",
       "      <th>Age</th>\n",
       "    </tr>\n",
       "  </thead>\n",
       "  <tbody>\n",
       "    <tr>\n",
       "      <th>0</th>\n",
       "      <td>Tom</td>\n",
       "      <td>20</td>\n",
       "    </tr>\n",
       "    <tr>\n",
       "      <th>1</th>\n",
       "      <td>nick</td>\n",
       "      <td>16</td>\n",
       "    </tr>\n",
       "    <tr>\n",
       "      <th>2</th>\n",
       "      <td>krish</td>\n",
       "      <td>40</td>\n",
       "    </tr>\n",
       "    <tr>\n",
       "      <th>3</th>\n",
       "      <td>Jack</td>\n",
       "      <td>18</td>\n",
       "    </tr>\n",
       "  </tbody>\n",
       "</table>\n",
       "</div>"
      ],
      "text/plain": [
       "    Name  Age\n",
       "0    Tom   20\n",
       "1   nick   16\n",
       "2  krish   40\n",
       "3   Jack   18"
      ]
     },
     "execution_count": 4,
     "metadata": {},
     "output_type": "execute_result"
    }
   ],
   "source": [
    "df_emp=pd.DataFrame(data)\n",
    "print(df_emp)"
   ]
  },
  {
   "cell_type": "code",
   "execution_count": 6,
   "id": "2e0d852d",
   "metadata": {},
   "outputs": [
    {
     "data": {
      "text/plain": [
       "0    20\n",
       "1    16\n",
       "2    40\n",
       "3    18\n",
       "Name: Age, dtype: int64"
      ]
     },
     "execution_count": 6,
     "metadata": {},
     "output_type": "execute_result"
    }
   ],
   "source": [
    "serEmplAge= pd.Series(df_emp['Age'])\n",
    "serEmplAge"
   ]
  },
  {
   "cell_type": "code",
   "execution_count": 8,
   "id": "4e97ba10",
   "metadata": {},
   "outputs": [
    {
     "data": {
      "text/plain": [
       "pandas.core.series.Series"
      ]
     },
     "execution_count": 8,
     "metadata": {},
     "output_type": "execute_result"
    }
   ],
   "source": [
    "type(serEmplAge)"
   ]
  },
  {
   "cell_type": "code",
   "execution_count": 9,
   "id": "5064664e",
   "metadata": {},
   "outputs": [],
   "source": [
    "result = serEmplAge.apply(lambda x: 21 if x==18 else x)"
   ]
  },
  {
   "cell_type": "code",
   "execution_count": 12,
   "id": "d398cb68",
   "metadata": {},
   "outputs": [
    {
     "data": {
      "text/plain": [
       "0    20\n",
       "1    16\n",
       "2    40\n",
       "3    21\n",
       "Name: Age, dtype: int64"
      ]
     },
     "execution_count": 12,
     "metadata": {},
     "output_type": "execute_result"
    }
   ],
   "source": [
    "result"
   ]
  },
  {
   "cell_type": "code",
   "execution_count": 35,
   "id": "3d1029cf",
   "metadata": {},
   "outputs": [],
   "source": [
    "lst=[x**2 for x in range(1,10)] # List comprehension"
   ]
  },
  {
   "cell_type": "code",
   "execution_count": 36,
   "id": "20d3cd51",
   "metadata": {},
   "outputs": [
    {
     "data": {
      "text/plain": [
       "[1, 4, 9, 16, 25, 36, 49, 64, 81]"
      ]
     },
     "execution_count": 36,
     "metadata": {},
     "output_type": "execute_result"
    }
   ],
   "source": [
    "lst"
   ]
  },
  {
   "cell_type": "code",
   "execution_count": 41,
   "id": "5ca6992e",
   "metadata": {},
   "outputs": [
    {
     "data": {
      "text/plain": [
       "['Java', 'Python', 'R']"
      ]
     },
     "execution_count": 41,
     "metadata": {},
     "output_type": "execute_result"
    }
   ],
   "source": [
    "l1=[x for x in language]\n",
    "l1   "
   ]
  },
  {
   "cell_type": "markdown",
   "id": "f9e647aa",
   "metadata": {},
   "source": [
    "# Numpy Arrays"
   ]
  },
  {
   "cell_type": "markdown",
   "id": "7efb0a35",
   "metadata": {},
   "source": [
    "Array creation Functions\n",
    "np.array(),np.zeros(),np.ones(),np.empty()"
   ]
  },
  {
   "cell_type": "code",
   "execution_count": 44,
   "id": "d0df5ca3",
   "metadata": {},
   "outputs": [
    {
     "data": {
      "text/plain": [
       "array([1, 2, 3])"
      ]
     },
     "execution_count": 44,
     "metadata": {},
     "output_type": "execute_result"
    }
   ],
   "source": [
    "import numpy as np\n",
    "array1=np.array([1,2,3])\n",
    "array1"
   ]
  },
  {
   "cell_type": "code",
   "execution_count": 46,
   "id": "b9cf41d4",
   "metadata": {},
   "outputs": [
    {
     "data": {
      "text/plain": [
       "array([[0., 0., 0.],\n",
       "       [0., 0., 0.],\n",
       "       [0., 0., 0.]])"
      ]
     },
     "execution_count": 46,
     "metadata": {},
     "output_type": "execute_result"
    }
   ],
   "source": [
    "array2= np.zeros((3,3))\n",
    "array2"
   ]
  },
  {
   "cell_type": "code",
   "execution_count": 47,
   "id": "944d3973",
   "metadata": {},
   "outputs": [
    {
     "data": {
      "text/plain": [
       "array([[1., 1., 1., 1.],\n",
       "       [1., 1., 1., 1.]])"
      ]
     },
     "execution_count": 47,
     "metadata": {},
     "output_type": "execute_result"
    }
   ],
   "source": [
    "array3=np.ones((2,4))\n",
    "array3"
   ]
  },
  {
   "cell_type": "code",
   "execution_count": 51,
   "id": "a9641817",
   "metadata": {},
   "outputs": [
    {
     "data": {
      "text/plain": [
       "array([0.33268216, 0.81111568, 0.16960827, 0.05103846, 0.85992953,\n",
       "       0.5404199 , 0.0620132 , 0.8827471 , 0.27344392, 0.48442202,\n",
       "       0.1864013 , 0.04850829, 0.10456495, 0.75971395, 0.78702194,\n",
       "       0.79988641, 0.98748584, 0.83843677, 0.19029563, 0.20757231,\n",
       "       0.78695816, 0.00460116, 0.86519289, 0.90752423, 0.24004419,\n",
       "       0.36149682, 0.63618368, 0.68341474, 0.6744345 , 0.14447992,\n",
       "       0.84595768, 0.5195565 , 0.36251685, 0.25312364, 0.84676497,\n",
       "       0.25318288, 0.62911044, 0.00778042, 0.27246375, 0.8609267 ,\n",
       "       0.08793723, 0.76430637, 0.79831563, 0.3748243 , 0.02213546,\n",
       "       0.68934267, 0.67665389, 0.95341776, 0.53407655, 0.1839673 ,\n",
       "       0.87318447, 0.76832014, 0.32384481, 0.46221077, 0.32646198,\n",
       "       0.3725939 , 0.61359747, 0.79954612, 0.67991053, 0.92776816,\n",
       "       0.09542217, 0.32552766, 0.48334056, 0.27083561, 0.6690762 ,\n",
       "       0.65355499, 0.18253539, 0.14509202, 0.41445136, 0.91320927,\n",
       "       0.72542705, 0.81038937, 0.74897893, 0.91686421, 0.62678395,\n",
       "       0.42775965, 0.00782099, 0.1040271 , 0.70321807, 0.33687538,\n",
       "       0.40006667, 0.92170812, 0.68747225, 0.40222937, 0.45844116,\n",
       "       0.18676278, 0.30116032, 0.33724043, 0.48153123, 0.99262198,\n",
       "       0.89411854, 0.58125995, 0.92213769, 0.45420716, 0.8783221 ,\n",
       "       0.17438713, 0.73017826, 0.99739495, 0.86594164, 0.64300292])"
      ]
     },
     "execution_count": 51,
     "metadata": {},
     "output_type": "execute_result"
    }
   ],
   "source": [
    "array4=np.random.rand(100)\n",
    "array4"
   ]
  },
  {
   "cell_type": "code",
   "execution_count": 53,
   "id": "e634ffb6",
   "metadata": {},
   "outputs": [
    {
     "data": {
      "text/plain": [
       "array([[1, 2, 3],\n",
       "       [4, 5, 6],\n",
       "       [7, 8, 9]])"
      ]
     },
     "execution_count": 53,
     "metadata": {},
     "output_type": "execute_result"
    }
   ],
   "source": [
    "array1d=np.array([1,2,3,4,5,6,7,8,9])\n",
    "array2d=np.reshape(array1d,(3,3))\n",
    "array2d"
   ]
  },
  {
   "cell_type": "code",
   "execution_count": 55,
   "id": "73b3ec92",
   "metadata": {},
   "outputs": [
    {
     "data": {
      "text/plain": [
       "array([[0.90814114, 0.10101117, 0.08489817, 0.77210889, 0.24065284],\n",
       "       [0.23930582, 0.01543474, 0.47228879, 0.28218803, 0.69517333],\n",
       "       [0.41375471, 0.30505126, 0.00376919, 0.54724292, 0.59839726],\n",
       "       [0.1945697 , 0.4407454 , 0.46548281, 0.97010352, 0.91067225],\n",
       "       [0.61594757, 0.07330944, 0.69452073, 0.62373926, 0.51171234],\n",
       "       [0.22632375, 0.73618093, 0.83616546, 0.49542987, 0.12602413]])"
      ]
     },
     "execution_count": 55,
     "metadata": {},
     "output_type": "execute_result"
    }
   ],
   "source": [
    "arr=np.random.rand(30)\n",
    "arr2=np.reshape(arr,(6,5))\n",
    "arr2"
   ]
  },
  {
   "cell_type": "markdown",
   "id": "f5edc1a2",
   "metadata": {},
   "source": [
    "# Array Input and Output Function"
   ]
  },
  {
   "cell_type": "code",
   "execution_count": 56,
   "id": "90b00a0e",
   "metadata": {},
   "outputs": [],
   "source": [
    "#np.save(),np.loadtxt()"
   ]
  },
  {
   "cell_type": "code",
   "execution_count": 57,
   "id": "eee55f52",
   "metadata": {},
   "outputs": [],
   "source": [
    "array1=np.array([[1,2,3],[4,5,6]])"
   ]
  },
  {
   "cell_type": "code",
   "execution_count": 58,
   "id": "e34ca819",
   "metadata": {},
   "outputs": [],
   "source": [
    "np.savetxt('data.txt',array1)"
   ]
  },
  {
   "cell_type": "code",
   "execution_count": 59,
   "id": "5ecfaeb6",
   "metadata": {},
   "outputs": [],
   "source": [
    "loaded_data=np.loadtxt('data.txt')"
   ]
  },
  {
   "cell_type": "code",
   "execution_count": 60,
   "id": "13cf69e2",
   "metadata": {},
   "outputs": [
    {
     "name": "stdout",
     "output_type": "stream",
     "text": [
      "[[1. 2. 3.]\n",
      " [4. 5. 6.]]\n"
     ]
    }
   ],
   "source": [
    "print(loaded_data)"
   ]
  },
  {
   "cell_type": "code",
   "execution_count": 61,
   "id": "b7dd40db",
   "metadata": {},
   "outputs": [
    {
     "data": {
      "text/plain": [
       "numpy.ndarray"
      ]
     },
     "execution_count": 61,
     "metadata": {},
     "output_type": "execute_result"
    }
   ],
   "source": [
    "type(loaded_data)"
   ]
  },
  {
   "cell_type": "code",
   "execution_count": null,
   "id": "18c2ae32",
   "metadata": {},
   "outputs": [],
   "source": []
  }
 ],
 "metadata": {
  "kernelspec": {
   "display_name": "Python 3 (ipykernel)",
   "language": "python",
   "name": "python3"
  },
  "language_info": {
   "codemirror_mode": {
    "name": "ipython",
    "version": 3
   },
   "file_extension": ".py",
   "mimetype": "text/x-python",
   "name": "python",
   "nbconvert_exporter": "python",
   "pygments_lexer": "ipython3",
   "version": "3.11.4"
  }
 },
 "nbformat": 4,
 "nbformat_minor": 5
}
